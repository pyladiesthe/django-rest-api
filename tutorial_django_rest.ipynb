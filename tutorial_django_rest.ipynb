{
 "cells": [
  {
   "cell_type": "markdown",
   "id": "b90c2774",
   "metadata": {},
   "source": [
    "# Tutorial: Criando uma API REST com Django REST Framework - Lista de Tarefas\n",
    "\n",
    "Este tutorial ensina como criar uma API REST completa para gerenciamento de tarefas usando Django e Django REST Framework.\n",
    "\n",
    "## Pré-requisitos\n",
    "- Python 3.8+ instalado\n",
    "- Conhecimento básico de Django\n",
    "- Conhecimento básico de APIs REST"
   ]
  },
  {
   "cell_type": "markdown",
   "id": "231a1546",
   "metadata": {},
   "source": [
    "## Passo 1: Configuração Inicial do Projeto\n",
    "\n",
    "### 1.1 Criando o ambiente virtual\n",
    "Execute os comandos abaixo no terminal:\n",
    "\n",
    "```bash\n",
    "python -m venv venv\n",
    "source venv/bin/activate  # No macOS/Linux\n",
    "# venv\\Scripts\\activate   # No Windows\n",
    "```"
   ]
  },
  {
   "cell_type": "code",
   "execution_count": null,
   "id": "95b574f2",
   "metadata": {},
   "outputs": [],
   "source": []
  },
  {
   "cell_type": "markdown",
   "id": "625c614f",
   "metadata": {},
   "source": [
    "### 1.2 Instalando as dependências\n",
    "\n",
    "Crie um arquivo `requirements.txt` com o seguinte conteúdo:"
   ]
  },
  {
   "cell_type": "code",
   "execution_count": null,
   "id": "26452a0f",
   "metadata": {},
   "outputs": [],
   "source": [
    "# Conteúdo do requirements.txt\n",
    "requirements_content = \"\"\"\n",
    "Django\n",
    "djangorestframework\n",
    "\"\"\"\n",
    "\n",
    "# Salvar o arquivo\n",
    "with open('requirements.txt', 'w') as f:\n",
    "    f.write(requirements_content.strip())\n",
    "\n",
    "print(\"Arquivo requirements.txt criado!\")\n",
    "print(\"Execute no terminal: pip install -r requirements.txt\")"
   ]
  },
  {
   "cell_type": "markdown",
   "id": "e8d8a059",
   "metadata": {},
   "source": [
    "### 1.3 Criando o projeto Django\n",
    "\n",
    "Execute no terminal:\n",
    "```bash\n",
    "django-admin startproject lista_tarefas\n",
    "cd lista_tarefas\n",
    "```\n",
    "\n",
    "### 1.4 Criando o app API\n",
    "```bash\n",
    "python manage.py startapp api\n",
    "```"
   ]
  },
  {
   "cell_type": "markdown",
   "id": "1d6693a1",
   "metadata": {},
   "source": [
    "## Passo 2: Configuração do Settings\n",
    "\n",
    "Edite o arquivo `lista_tarefas/settings.py` e adicione as aplicações necessárias:"
   ]
  },
  {
   "cell_type": "code",
   "execution_count": null,
   "id": "8a78b741",
   "metadata": {},
   "outputs": [],
   "source": [
    "# Exemplo da configuração INSTALLED_APPS no settings.py\n",
    "INSTALLED_APPS_example = [\n",
    "    'django.contrib.admin',\n",
    "    'django.contrib.auth',\n",
    "    'django.contrib.contenttypes',\n",
    "    'django.contrib.sessions',\n",
    "    'django.contrib.messages',\n",
    "    'django.contrib.staticfiles',\n",
    "    'api',  # Nova app\n",
    "    'rest_framework'  # Django REST Framework\n",
    "]\n",
    "\n",
    "print(\"Adicione 'api' e 'rest_framework' ao INSTALLED_APPS no settings.py\")\n",
    "for app in INSTALLED_APPS_example:\n",
    "    print(f\"    '{app}',\")"
   ]
  },
  {
   "cell_type": "markdown",
   "id": "b7cc3f3d",
   "metadata": {},
   "source": [
    "## Passo 3: Criando o Modelo de Dados\n",
    "\n",
    "No arquivo `api/models.py`, crie o modelo `Tarefa`:"
   ]
  },
  {
   "cell_type": "code",
   "execution_count": null,
   "id": "5f3aa719",
   "metadata": {},
   "outputs": [],
   "source": [
    "# Conteúdo do arquivo api/models.py\n",
    "models_content = '''\n",
    "from django.db import models\n",
    "\n",
    "class Tarefa(models.Model):\n",
    "    status_choice = {\n",
    "        'P': 'PENDENTE',\n",
    "        'A': 'ANDAMENTO',\n",
    "        'C': 'CONCLUIDO'\n",
    "    }\n",
    "\n",
    "    titulo = models.CharField(max_length=200)\n",
    "    descricao = models.TextField(blank=True)\n",
    "    status = models.CharField(max_length=1, choices=status_choice, default='P')\n",
    "    data_criacao = models.DateField(auto_now=True)\n",
    "\n",
    "    def __str__(self):\n",
    "        return self.titulo\n",
    "'''\n",
    "\n",
    "print(\"Modelo Tarefa:\")\n",
    "print(models_content)"
   ]
  },
  {
   "cell_type": "markdown",
   "id": "a1e660b9",
   "metadata": {},
   "source": [
    "### Explicação do Modelo:\n",
    "\n",
    "- **titulo**: Campo de texto para o título da tarefa (máximo 200 caracteres)\n",
    "- **descricao**: Campo de texto longo opcional para descrição\n",
    "- **status**: Campo de escolha com três opções (Pendente, Andamento, Concluído)\n",
    "- **data_criacao**: Campo de data que é automaticamente preenchido"
   ]
  },
  {
   "cell_type": "markdown",
   "id": "7d51c7cc",
   "metadata": {},
   "source": [
    "## Passo 4: Criando e Aplicando Migrações\n",
    "\n",
    "Execute no terminal:\n",
    "```bash\n",
    "python manage.py makemigrations\n",
    "python manage.py migrate\n",
    "```"
   ]
  },
  {
   "cell_type": "markdown",
   "id": "12fe8f6f",
   "metadata": {},
   "source": [
    "## Passo 5: Criando o Serializer\n",
    "\n",
    "No arquivo `api/serializers.py`, crie o serializer:"
   ]
  },
  {
   "cell_type": "code",
   "execution_count": null,
   "id": "aa5a4489",
   "metadata": {},
   "outputs": [],
   "source": [
    "# Conteúdo do arquivo api/serializers.py\n",
    "serializers_content = '''\n",
    "from rest_framework import serializers\n",
    "from .models import Tarefa\n",
    "\n",
    "class TarefaSerializer(serializers.ModelSerializer):\n",
    "    class Meta:\n",
    "        model = Tarefa\n",
    "        fields = ['titulo', 'descricao', 'status', 'data_criacao']\n",
    "        read_only_fields = ['data_criacao']\n",
    "'''\n",
    "\n",
    "print(\"Serializer:\")\n",
    "print(serializers_content)\n",
    "\n",
    "print(\"\\n### Explicação do Serializer:\")\n",
    "print(\"- Converte objetos Python em formato JSON e vice-versa\")\n",
    "print(\"- ModelSerializer automatiza muito do processo\")\n",
    "print(\"- read_only_fields impede que o campo seja modificado via API\")"
   ]
  },
  {
   "cell_type": "markdown",
   "id": "1feb931d",
   "metadata": {},
   "source": [
    "## Passo 6: Criando as Views da API\n",
    "\n",
    "No arquivo `api/views.py`, implemente todas as views:"
   ]
  },
  {
   "cell_type": "code",
   "execution_count": null,
   "id": "c3d81445",
   "metadata": {},
   "outputs": [],
   "source": [
    "# Conteúdo do arquivo api/views.py - Parte 1: Imports e lista_tarefas\n",
    "views_part1 = '''\n",
    "from rest_framework.decorators import api_view\n",
    "from rest_framework.response import Response \n",
    "from rest_framework import status\n",
    "\n",
    "from .models import Tarefa\n",
    "from .serializers import TarefaSerializer\n",
    "\n",
    "@api_view(['GET'])\n",
    "def lista_tarefas(request):\n",
    "    if request.method == 'GET':\n",
    "        tarefas = Tarefa.objects.all().order_by('status')\n",
    "        tarefa_serializer = TarefaSerializer(tarefas, many=True)\n",
    "        return Response(tarefa_serializer.data)\n",
    "'''\n",
    "\n",
    "print(\"Views - Parte 1 (Imports e lista_tarefas):\")\n",
    "print(views_part1)"
   ]
  },
  {
   "cell_type": "code",
   "execution_count": null,
   "id": "af8f9326",
   "metadata": {},
   "outputs": [],
   "source": [
    "# Conteúdo do arquivo api/views.py - Parte 2: lista_concluidas e cria_tarefa\n",
    "views_part2 = '''\n",
    "@api_view(['GET'])\n",
    "def lista_concluidas(request):\n",
    "    if request.method == 'GET':\n",
    "        tarefas_concluidas = Tarefa.objects.filter(status='C')\n",
    "        tarefa_serializer = TarefaSerializer(tarefas_concluidas, many=True)\n",
    "        return Response(tarefa_serializer.data)\n",
    "\n",
    "@api_view(['POST'])\n",
    "def cria_tarefa(request):\n",
    "    if request.method == 'POST':\n",
    "        tarefa_serializer = TarefaSerializer(data=request.data)\n",
    "        \n",
    "        if tarefa_serializer.is_valid():\n",
    "            tarefa_serializer.save()\n",
    "            return Response(tarefa_serializer.data, status=status.HTTP_201_CREATED)\n",
    "    \n",
    "    return Response(tarefa_serializer.errors, status=status.HTTP_400_BAD_REQUEST)\n",
    "'''\n",
    "\n",
    "print(\"Views - Parte 2 (lista_concluidas e cria_tarefa):\")\n",
    "print(views_part2)"
   ]
  },
  {
   "cell_type": "code",
   "execution_count": null,
   "id": "fa7cc8a5",
   "metadata": {},
   "outputs": [],
   "source": [
    "# Conteúdo do arquivo api/views.py - Parte 3: atualiza_tarefa\n",
    "views_part3 = '''\n",
    "@api_view(['PUT', 'PATCH'])\n",
    "def atualiza_tarefa(request, pk):\n",
    "    try:\n",
    "        tarefa = Tarefa.objects.get(pk=pk)\n",
    "    except Tarefa.DoesNotExist:\n",
    "        return Response({\"error\": \"Tarefa não encontrada\"}, status=status.HTTP_404_NOT_FOUND)\n",
    "\n",
    "    if request.method == 'PUT' or request.method == 'PATCH':\n",
    "        atualizar_parcial = True if request.method == 'PATCH' else False\n",
    "        \n",
    "        tarefa_serializer = TarefaSerializer(tarefa, data=request.data, partial=atualizar_parcial)\n",
    "        \n",
    "        if tarefa_serializer.is_valid():\n",
    "            tarefa_serializer.save()\n",
    "            return Response(tarefa_serializer.data, status=status.HTTP_200_OK)\n",
    "        \n",
    "        return Response(tarefa_serializer.errors, status=status.HTTP_400_BAD_REQUEST)\n",
    "'''\n",
    "\n",
    "print(\"Views - Parte 3 (atualiza_tarefa):\")\n",
    "print(views_part3)"
   ]
  },
  {
   "cell_type": "code",
   "execution_count": null,
   "id": "9f903ee4",
   "metadata": {},
   "outputs": [],
   "source": [
    "# Conteúdo do arquivo api/views.py - Parte 4: deleta_tarefa\n",
    "views_part4 = '''\n",
    "@api_view(['DELETE'])\n",
    "def deleta_tarefa(request, pk):\n",
    "    try:\n",
    "        tarefa = Tarefa.objects.get(pk=pk)\n",
    "    except Tarefa.DoesNotExist:\n",
    "        return Response({\"error\": \"Tarefa não encontrada\"}, status=status.HTTP_404_NOT_FOUND)\n",
    "\n",
    "    if request.method == 'DELETE':\n",
    "        tarefa.delete()\n",
    "        return Response(status=status.HTTP_204_NO_CONTENT)\n",
    "'''\n",
    "\n",
    "print(\"Views - Parte 4 (deleta_tarefa):\")\n",
    "print(views_part4)"
   ]
  },
  {
   "cell_type": "markdown",
   "id": "762bbc7c",
   "metadata": {},
   "source": [
    "### Explicação das Views:\n",
    "\n",
    "1. **lista_tarefas**: Lista todas as tarefas ordenadas por status\n",
    "2. **lista_concluidas**: Lista apenas tarefas concluídas (status 'C')\n",
    "3. **cria_tarefa**: Cria nova tarefa via POST\n",
    "4. **atualiza_tarefa**: Atualiza tarefa existente (PUT = completo, PATCH = parcial)\n",
    "5. **deleta_tarefa**: Remove tarefa pelo ID"
   ]
  },
  {
   "cell_type": "markdown",
   "id": "fd499c3c",
   "metadata": {},
   "source": [
    "## Passo 7: Configurando as URLs\n",
    "\n",
    "### 7.1 URLs do App (`api/urls.py`)"
   ]
  },
  {
   "cell_type": "code",
   "execution_count": null,
   "id": "614efd14",
   "metadata": {},
   "outputs": [],
   "source": [
    "# Conteúdo do arquivo api/urls.py\n",
    "api_urls_content = '''\n",
    "from django.urls import path\n",
    "from .views import lista_tarefas, cria_tarefa, atualiza_tarefa, deleta_tarefa, lista_concluidas\n",
    "\n",
    "urlpatterns = [\n",
    "    path('', lista_tarefas, name='lista_tarefas'),\n",
    "    path('criar/', cria_tarefa, name='cria_tarefa'),\n",
    "    path('atualiza/<int:pk>/', atualiza_tarefa, name='atualiza_tarefa'),\n",
    "    path('deleta/<int:pk>/', deleta_tarefa, name='deleta_tarefa'),\n",
    "    path('concluidas/', lista_concluidas, name='lista_concluidas')\n",
    "]\n",
    "'''\n",
    "\n",
    "print(\"URLs do App (api/urls.py):\")\n",
    "print(api_urls_content)"
   ]
  },
  {
   "cell_type": "code",
   "execution_count": null,
   "id": "83a23554",
   "metadata": {},
   "outputs": [],
   "source": [
    "# Conteúdo do arquivo lista_tarefas/urls.py\n",
    "project_urls_content = '''\n",
    "from django.contrib import admin\n",
    "from django.urls import path, include\n",
    "\n",
    "urlpatterns = [\n",
    "    path('admin/', admin.site.urls),\n",
    "    path('', include('api.urls')),\n",
    "]\n",
    "'''\n",
    "\n",
    "print(\"URLs do Projeto (lista_tarefas/urls.py):\")\n",
    "print(project_urls_content)"
   ]
  },
  {
   "cell_type": "markdown",
   "id": "a6c02453",
   "metadata": {},
   "source": [
    "## Passo 8: Testando a API\n",
    "\n",
    "### 8.1 Iniciar o servidor\n",
    "```bash\n",
    "python manage.py runserver\n",
    "```\n",
    "\n",
    "### 8.2 Endpoints disponíveis:"
   ]
  },
  {
   "cell_type": "code",
   "execution_count": null,
   "id": "bc015eaf",
   "metadata": {},
   "outputs": [],
   "source": [
    "# Mapeamento dos endpoints da API\n",
    "endpoints = {\n",
    "    \"GET /\": \"Lista todas as tarefas\",\n",
    "    \"GET /concluidas/\": \"Lista tarefas concluídas\",\n",
    "    \"POST /criar/\": \"Cria nova tarefa\",\n",
    "    \"PUT/PATCH /atualiza/{id}/\": \"Atualiza tarefa\",\n",
    "    \"DELETE /deleta/{id}/\": \"Remove tarefa\"\n",
    "}\n",
    "\n",
    "print(\"Endpoints da API:\")\n",
    "print(\"=\" * 40)\n",
    "for endpoint, description in endpoints.items():\n",
    "    print(f\"{endpoint:<25} - {description}\")"
   ]
  },
  {
   "cell_type": "markdown",
   "id": "2098a294",
   "metadata": {},
   "source": [
    "### 8.3 Exemplos de uso com cURL:"
   ]
  },
  {
   "cell_type": "code",
   "execution_count": null,
   "id": "5a53b7e9",
   "metadata": {},
   "outputs": [],
   "source": [
    "# Exemplos de comandos cURL para testar a API\n",
    "curl_examples = {\n",
    "    \"Criar tarefa\": '''\n",
    "curl -X POST http://127.0.0.1:8000/criar/ \\\n",
    "  -H \"Content-Type: application/json\" \\\n",
    "  -d '{\"titulo\": \"Minha primeira tarefa\", \"descricao\": \"Descrição da tarefa\"}'\n",
    "''',\n",
    "    \"Listar tarefas\": '''\n",
    "curl http://127.0.0.1:8000/\n",
    "''',\n",
    "    \"Atualizar status\": '''\n",
    "curl -X PATCH http://127.0.0.1:8000/atualiza/1/ \\\n",
    "  -H \"Content-Type: application/json\" \\\n",
    "  -d '{\"status\": \"C\"}'\n",
    "''',\n",
    "    \"Deletar tarefa\": '''\n",
    "curl -X DELETE http://127.0.0.1:8000/deleta/1/\n",
    "'''\n",
    "}\n",
    "\n",
    "for action, command in curl_examples.items():\n",
    "    print(f\"**{action}:**\")\n",
    "    print(f\"```bash{command}```\\n\")"
   ]
  },
  {
   "cell_type": "markdown",
   "id": "d6293e5f",
   "metadata": {},
   "source": [
    "## Passo 9: Melhorias Opcionais\n",
    "\n",
    "### 9.1 Registrar no Django Admin (`api/admin.py`)"
   ]
  },
  {
   "cell_type": "code",
   "execution_count": null,
   "id": "1bc71e35",
   "metadata": {},
   "outputs": [],
   "source": [
    "# Conteúdo do arquivo api/admin.py\n",
    "admin_content = '''\n",
    "from django.contrib import admin\n",
    "from .models import Tarefa\n",
    "\n",
    "@admin.register(Tarefa)\n",
    "class TarefaAdmin(admin.ModelAdmin):\n",
    "    list_display = ['titulo', 'status', 'data_criacao']\n",
    "    list_filter = ['status', 'data_criacao']\n",
    "    search_fields = ['titulo']\n",
    "'''\n",
    "\n",
    "print(\"Admin (api/admin.py):\")\n",
    "print(admin_content)\n",
    "\n",
    "print(\"\\n### Para acessar o admin:\")\n",
    "print(\"1. Criar superusuário: python manage.py createsuperuser\")\n",
    "print(\"2. Acessar: http://127.0.0.1:8000/admin/\")"
   ]
  },
  {
   "cell_type": "markdown",
   "id": "105067c8",
   "metadata": {},
   "source": [
    "## Testando a API com Python"
   ]
  },
  {
   "cell_type": "code",
   "execution_count": null,
   "id": "48f8f92b",
   "metadata": {},
   "outputs": [],
   "source": [
    "# Exemplo de como testar a API usando Python requests\n",
    "# (Este código funcionará quando o servidor Django estiver rodando)\n",
    "\n",
    "import requests\n",
    "import json\n",
    "\n",
    "# URL base da API\n",
    "BASE_URL = \"http://127.0.0.1:8000\"\n",
    "\n",
    "def test_api():\n",
    "    \"\"\"Função para testar todos os endpoints da API\"\"\"\n",
    "    \n",
    "    print(\"=== TESTANDO API DE TAREFAS ===\")\n",
    "    \n",
    "    # 1. Criar uma nova tarefa\n",
    "    print(\"\\n1. Criando nova tarefa...\")\n",
    "    nova_tarefa = {\n",
    "        \"titulo\": \"Tarefa de Teste\",\n",
    "        \"descricao\": \"Esta é uma tarefa criada para teste\",\n",
    "        \"status\": \"P\"\n",
    "    }\n",
    "    \n",
    "    try:\n",
    "        response = requests.post(f\"{BASE_URL}/criar/\", json=nova_tarefa)\n",
    "        if response.status_code == 201:\n",
    "            tarefa_criada = response.json()\n",
    "            print(f\"✅ Tarefa criada: {tarefa_criada}\")\n",
    "            tarefa_id = tarefa_criada.get('id')\n",
    "        else:\n",
    "            print(f\"❌ Erro ao criar tarefa: {response.status_code}\")\n",
    "            return\n",
    "    except requests.exceptions.ConnectionError:\n",
    "        print(\"❌ Servidor Django não está rodando. Execute 'python manage.py runserver'\")\n",
    "        return\n",
    "    \n",
    "    # 2. Listar todas as tarefas\n",
    "    print(\"\\n2. Listando todas as tarefas...\")\n",
    "    response = requests.get(f\"{BASE_URL}/\")\n",
    "    if response.status_code == 200:\n",
    "        tarefas = response.json()\n",
    "        print(f\"✅ Total de tarefas: {len(tarefas)}\")\n",
    "        for tarefa in tarefas:\n",
    "            print(f\"   - {tarefa['titulo']} (Status: {tarefa['status']})\")\n",
    "    \n",
    "    # 3. Atualizar status da tarefa\n",
    "    if 'tarefa_id' in locals():\n",
    "        print(f\"\\n3. Atualizando status da tarefa {tarefa_id}...\")\n",
    "        update_data = {\"status\": \"C\"}\n",
    "        response = requests.patch(f\"{BASE_URL}/atualiza/{tarefa_id}/\", json=update_data)\n",
    "        if response.status_code == 200:\n",
    "            print(\"✅ Status atualizado para 'CONCLUÍDO'\")\n",
    "    \n",
    "    # 4. Listar tarefas concluídas\n",
    "    print(\"\\n4. Listando tarefas concluídas...\")\n",
    "    response = requests.get(f\"{BASE_URL}/concluidas/\")\n",
    "    if response.status_code == 200:\n",
    "        tarefas_concluidas = response.json()\n",
    "        print(f\"✅ Tarefas concluídas: {len(tarefas_concluidas)}\")\n",
    "\n",
    "# Para executar o teste, descomente a linha abaixo\n",
    "# test_api()\n",
    "\n",
    "print(\"Função de teste criada!\")\n",
    "print(\"Para testar, certifique-se de que o servidor Django está rodando e execute: test_api()\")"
   ]
  },
  {
   "cell_type": "markdown",
   "id": "230424f1",
   "metadata": {},
   "source": [
    "## Conceitos Aprendidos\n",
    "\n",
    "Ao final deste tutorial, você aprendeu:"
   ]
  },
  {
   "cell_type": "code",
   "execution_count": null,
   "id": "3dc995f8",
   "metadata": {},
   "outputs": [],
   "source": [
    "# Resumo dos conceitos aprendidos\n",
    "conceitos = {\n",
    "    \"Models\": \"Definição da estrutura de dados no Django\",\n",
    "    \"Serializers\": \"Conversão entre objetos Python e formato JSON\",\n",
    "    \"Views\": \"Lógica de negócio da API (function-based views)\",\n",
    "    \"URLs\": \"Roteamento de endpoints da API\",\n",
    "    \"HTTP Methods\": \"GET, POST, PUT, PATCH, DELETE\",\n",
    "    \"Status Codes\": \"200 (OK), 201 (Created), 400 (Bad Request), 404 (Not Found), etc.\",\n",
    "    \"Validação\": \"Validação automática através de serializers\",\n",
    "    \"Filtros\": \"Query de dados específicos usando Django ORM\",\n",
    "    \"CRUD\": \"Create, Read, Update, Delete - operações básicas\",\n",
    "    \"API REST\": \"Princípios de design de APIs RESTful\"\n",
    "}\n",
    "\n",
    "print(\"CONCEITOS APRENDIDOS:\")\n",
    "print(\"=\" * 50)\n",
    "\n",
    "for i, (conceito, descricao) in enumerate(conceitos.items(), 1):\n",
    "    print(f\"{i:2d}. {conceito:<15} - {descricao}\")\n",
    "\n",
    "print(\"\\n🎉 Parabéns! Você criou uma API REST completa com Django REST Framework!\")"
   ]
  },
  {
   "cell_type": "markdown",
   "id": "ce687d4f",
   "metadata": {},
   "source": [
    "## Próximos Passos\n",
    "\n",
    "Para continuar aprendendo, considere:\n",
    "\n",
    "1. **Autenticação e Autorização**: Adicionar login e permissões\n",
    "2. **Paginação**: Para listar muitos dados de forma eficiente\n",
    "3. **Filtros Avançados**: Usando django-filter\n",
    "4. **Documentação**: Usando drf-spectacular para Swagger/OpenAPI\n",
    "5. **Testes**: Criar testes automatizados para a API\n",
    "6. **Deploy**: Colocar a API em produção\n",
    "7. **Versionamento**: Gerenciar versões da API\n",
    "8. **Cache**: Otimizar performance com Redis\n",
    "\n",
    "Esta API implementa um CRUD completo seguindo as melhores práticas do Django REST Framework!"
   ]
  }
 ],
 "metadata": {
  "language_info": {
   "name": "python"
  }
 },
 "nbformat": 4,
 "nbformat_minor": 5
}
